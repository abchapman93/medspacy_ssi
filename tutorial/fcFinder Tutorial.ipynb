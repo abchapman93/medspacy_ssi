{
 "cells": [
  {
   "cell_type": "code",
   "execution_count": 1,
   "metadata": {},
   "outputs": [],
   "source": [
    "import os, sys\n",
    "sys.path.append('..')\n",
    "import fcFinder as fc\n",
    "from fcFinder import markup_conditions, modifiers, targets\n",
    "import helpers\n",
    "import pyConTextNLP as pyConText\n",
    "from pyConTextNLP.pyConTextGraph import ConTextMarkup"
   ]
  },
  {
   "cell_type": "markdown",
   "metadata": {},
   "source": [
    "# About this notebook\n",
    "\n",
    "This notebook offers a walk-through of the fcFinder package. fcFinder offers tools that utilize the pyConText library and are geared towards the discovery of fluid collections in radiology reports of surgical patients. fcFinder will eventually be enveloped in a larger tool called HAI-Detect, which expands this functionality to pneumonia, UTIs, and other forms of surgical site infections.\n",
    "\n",
    "Before using fcFinder, it is suggested that the user understand the pyConTextNLP library. Notebooks are avilable for download at https://github.com/chapmanbe/pyConTextNLP. "
   ]
  },
  {
   "cell_type": "markdown",
   "metadata": {},
   "source": [
    "## What fcFinder offers\n",
    "\n",
    "fcFinder is meant to offer tools that utilize some basic functionalities of pyConText for an end user. It is specifically geared towards the identification of fluid collections, but can be expanded to other uses. For an example of a use case, see the PDF contained in this folder."
   ]
  },
  {
   "cell_type": "markdown",
   "metadata": {},
   "source": [
    "### Targets and Modifiers\n",
    "\n",
    "In pyConText, targets and modifiers are explicilty defined using *.tsv* files. In this example, we will use these default targets and modifiers files: \n",
    "\n",
    "    '../targets.tsv'\n",
    "    '../modifiers.tsv'\n",
    "\n",
    ", that define the following classes:\n",
    "- Targets:\n",
    "    - `FLUID_COLLECTION`\n",
    "    - `PSEUDOANCHOR` - terms that could be caught as false positives and are explicitly differentiated from the targets\n",
    "\n",
    "- Modifiers:\n",
    "    - `ANATOMY` - anatomical locations that allow the user to identify targets that occur only in the same sentence as certain locations\n",
    "    - `INDICATION`, `DEFINITE_NEGATED_EXISTENCE`, `PROBABLE_EXISTENCE`, `AMBIVALENT_EXISTENCE`, etc. - lexical modifiers\n",
    "    - `PSEUDOANATOMY`, `PSEUDONEG`, `PSEUDOINDICATION`\n",
    "    "
   ]
  },
  {
   "cell_type": "markdown",
   "metadata": {},
   "source": [
    "## Demo\n",
    "\n",
    "Here is a demonstration of how fcFinder was used in the use case scenario."
   ]
  },
  {
   "cell_type": "code",
   "execution_count": 2,
   "metadata": {},
   "outputs": [],
   "source": [
    "\n",
    "file = 'sample_report.txt' #Sample Radiology report from MIMIC-III dataset\n",
    "report = ''\n",
    "with open(file,'r') as f:\n",
    "    report += f.read()"
   ]
  },
  {
   "cell_type": "code",
   "execution_count": 3,
   "metadata": {},
   "outputs": [
    {
     "name": "stdout",
     "output_type": "stream",
     "text": [
      " \n",
      " CT ABD & PELVIS WITH CONTRAST \n",
      " ~ Reason: Evaluate for abscess/fluid collection and drain position.\n",
      " ~ Admitting Diagnosis: CHOLECYSTITIS\n",
      "  Contrast: OPTIRAY Amt: 130\n",
      " \n",
      "\n",
      " ~ UNDERLYING MEDICAL CONDITION:\n",
      "  82M s/p open CCY and biloma drainage with  drains in place--now draining\n",
      "  purulent fluid.\n",
      " ~ REASON FOR THIS EXAMINATION:\n",
      "  Evaluate for abscess/fluid collection and drain position.\n",
      " No contraindications for IV contrast\n",
      " \n",
      "\n",
      " ~ WET READ: MLHh \n",
      "  Multiloculated communicating fluid collections in GB fossa (w/ Surgicel),\n",
      "  perihepatic space, and R abd/pelvis.  Some of these have characteristics\n",
      "  concerning for hematoma/superinfx.\n",
      "  R rectus abdominis edema and small IM fluid collections, cannot r/o infx.\n",
      "  Malpositioned  drains, which course through collections, but tips end\n",
      "  outside at hepatic dome and inferior liver tip.\n",
      "  Bilat small pleural effusions, R>L.\n",
      " WET READ VERSION #1 MLHh \n",
      "  Multiloculated fluid collections in GB fossa, perihepatic space, and R\n",
      "  abd/pelvis, with charac\n"
     ]
    }
   ],
   "source": [
    "print(report[:1000])"
   ]
  },
  {
   "cell_type": "code",
   "execution_count": 4,
   "metadata": {},
   "outputs": [],
   "source": [
    "# Here is a pipeline provided in the fcFinder module\n",
    "# A custom function can be made by the user\n",
    "# This section will walk through this process\n",
    "def fc_pipeline(report, preprocess=lambda x:x.lower(), \n",
    "                splitter=helpers.my_sentence_splitter):\n",
    "    report = preprocess(report) \n",
    "    sentences = splitter(report) \n",
    "    markups = create_list_of_markups(sentences,spans=True) #Create markups and set markup_conditions\n",
    "    markups = [m for m in markups if m.markupClass] #Exclude any markups that aren't assigned a class\n",
    "    return markups"
   ]
  },
  {
   "cell_type": "code",
   "execution_count": 5,
   "metadata": {},
   "outputs": [
    {
     "name": "stdout",
     "output_type": "stream",
     "text": [
      " \n",
      " ct abd & pelvis with contrast \n",
      " ~ reason: evaluate for abscess/fluid collection and drain position.\n",
      " ~ admitting diagnosis: cholecystitis\n",
      "  contrast: optiray amt: 130\n",
      " \n",
      "\n",
      " ~ underlying medical condition:\n",
      "  82m s/p open ccy and biloma drainage with  drains in place--now draining\n",
      "  purulent fluid.\n",
      " \n"
     ]
    }
   ],
   "source": [
    "#preprocess \n",
    "# Any preprocessing done for report. By default is all lowercase.\n",
    "preprocess = lambda x:x.lower()\n",
    "print(preprocess(report)[:300])"
   ]
  },
  {
   "cell_type": "code",
   "execution_count": 6,
   "metadata": {
    "scrolled": false
   },
   "outputs": [
    {
     "name": "stdout",
     "output_type": "stream",
     "text": [
      "0\n",
      "SentenceSpanPair(text=' \\n CT ABD & PELVIS WITH CONTRAST \\n ~', span=(0, 36))\n",
      "\n",
      "1\n",
      "SentenceSpanPair(text='Reason: Evaluate for abscess/fluid collection and drain position.', span=(37, 102))\n",
      "\n",
      "2\n",
      "SentenceSpanPair(text=' ~', span=(103, 105))\n",
      "\n",
      "3\n",
      "SentenceSpanPair(text='Admitting Diagnosis: CHOLECYSTITIS\\n  Contrast: OPTIRAY Amt: 130\\n \\n\\n ~', span=(106, 175))\n",
      "\n",
      "4\n",
      "SentenceSpanPair(text='UNDERLYING MEDICAL CONDITION:\\n  82M s/p open CCY and biloma drainage with  drains in place--now draining\\n  purulent fluid.', span=(176, 298))\n",
      "\n"
     ]
    }
   ],
   "source": [
    "# A function that will split sentences.\n",
    "# Default is to split on '.'\n",
    "# This example uses a custom-made function found in ../helpers.py\n",
    "# This function returns named tuples that contain the text and span of each sentence\n",
    "# You can also just return a list of sentences without keeping track of the sentence spans in the document.\n",
    "\n",
    "splitter = helpers.my_sentence_splitter\n",
    "sentences = splitter(report)\n",
    "for named_tup in sentences[:5]:\n",
    "    print(sentences.index(named_tup))\n",
    "    print(named_tup)\n",
    "    print()"
   ]
  },
  {
   "cell_type": "code",
   "execution_count": 7,
   "metadata": {},
   "outputs": [
    {
     "name": "stdout",
     "output_type": "stream",
     "text": [
      "SentenceSpanPair(text='WET READ: MLHh \\n  Multiloculated communicating fluid collections in GB fossa (w/ Surgicel),\\n  perihepatic space, and R abd/pelvis.', span=(435, 565))\n"
     ]
    }
   ],
   "source": [
    "# We'll create a markup using this SentenceSpanPair\n",
    "\n",
    "s = sentences[8]\n",
    "print(s)"
   ]
  },
  {
   "cell_type": "code",
   "execution_count": 8,
   "metadata": {},
   "outputs": [],
   "source": [
    "span = s.span\n",
    "markup = ConTextMarkup()\n",
    "markup.setRawText(s.text)\n",
    "if not span: # optional for if you do not use a SentenceSpanPair\n",
    "    span = (0,len(s))\n",
    "markup.docSpan = span\n",
    "\n",
    "#The following functionality is explained in pyConText's notebook\n",
    "markup.cleanText() \n",
    "markup.markItems(modifiers, mode=\"modifier\")\n",
    "markup.markItems(targets, mode=\"target\")\n",
    "markup.pruneMarks()\n",
    "markup.dropMarks('Exclusion')\n",
    "markup.applyModifiers()\n",
    "markup.pruneSelfModifyingRelationships()\n",
    "markup.dropInactiveModifiers()"
   ]
  },
  {
   "cell_type": "code",
   "execution_count": 9,
   "metadata": {},
   "outputs": [
    {
     "name": "stdout",
     "output_type": "stream",
     "text": [
      "False\n",
      "False\n",
      "True\n",
      "['fluid_collection'] modified by: ['anatomy']\n"
     ]
    }
   ],
   "source": [
    "# To keep track of relevant data found by pyConText, we'll use a class called markup_conditions\n",
    "markup.conditions = markup_conditions(markup) #add this as an attribute to the markup object\n",
    "markup.target = markup.conditions.target\n",
    "markup.target = markup.conditions.target\n",
    "markup.modifiers = markup.conditions.modifiers #markup_classifier(markup)\n",
    "\n",
    "print(markup.conditions.indication) # Check if it is modified by indication, negated_existence or anatomy\n",
    "print(markup.conditions.negated)\n",
    "print(markup.conditions.anatomy)\n",
    "print(markup.conditions) # Print the object"
   ]
  },
  {
   "cell_type": "code",
   "execution_count": 10,
   "metadata": {
    "collapsed": true
   },
   "outputs": [],
   "source": [
    "#Now that we have specified what information is relevant, we can classify the markup using this function.\n",
    "def markup_classifier(markup):\n",
    "    conditions = markup.conditions\n",
    "    markup_class = None\n",
    "\n",
    "    if not conditions.target:\n",
    "        pass\n",
    "    #positive\n",
    "    elif (conditions.anatomy and not conditions.negated and not conditions.indication)\\\n",
    "        or (conditions.anatomy and conditions.definitive):\n",
    "        markup_class = \"Fluid collection-positive\"\n",
    "        \n",
    "    #negated\n",
    "    elif conditions.negated and not conditions.definitive:\n",
    "        markup_class = \"Fluid collection-negated\"\n",
    "    \n",
    "    #indication\n",
    "    elif conditions.indication and not (conditions.negated or conditions.definitive\n",
    "                                or conditions.historical or conditions.probable):\n",
    "        markup_class = \"fluid collection-indication\"\n",
    "        \n",
    "    #check for pseudoanatomy\n",
    "    if conditions.pseudoanatomy and not conditions.anatomy:\n",
    "        markup_class = None\n",
    "    return markup_class"
   ]
  },
  {
   "cell_type": "code",
   "execution_count": 11,
   "metadata": {},
   "outputs": [
    {
     "name": "stdout",
     "output_type": "stream",
     "text": [
      "Fluid collection-positive\n"
     ]
    }
   ],
   "source": [
    "#The markup has the target with a category 'Fluid Collection' and is modified by 'anatomy'. \n",
    "#According to our function, that means it should be classified as 'Fluid collection-positive'\n",
    "markup.markupClass = markup_classifier(markup)\n",
    "print(markup.markupClass)"
   ]
  },
  {
   "cell_type": "code",
   "execution_count": 12,
   "metadata": {},
   "outputs": [
    {
     "name": "stdout",
     "output_type": "stream",
     "text": [
      "None\n"
     ]
    }
   ],
   "source": [
    "#Note that if it were not modified by anatomy, it would not be assigned a markupClass\n",
    "markup2 = markup\n",
    "markup2.conditions = markup_conditions(markup2)\n",
    "markup2.conditions.anatomy = False\n",
    "markup2.markupClass = markup_classifier(markup2)\n",
    "print(markup2.markupClass)"
   ]
  },
  {
   "cell_type": "code",
   "execution_count": 13,
   "metadata": {
    "scrolled": true
   },
   "outputs": [
    {
     "name": "stdout",
     "output_type": "stream",
     "text": [
      "reason: evaluate for abscess/fluid collection and drain position.\n",
      "fluid collection-indication\n",
      "\n",
      "underlying medical condition:\n",
      "  82m s/p open ccy and biloma drainage with  drains in place--now draining\n",
      "  purulent fluid.\n",
      "fluid collection-indication\n",
      "\n",
      "reason for this examination:\n",
      "  evaluate for abscess/fluid collection and drain position.\n",
      "fluid collection-indication\n",
      "\n",
      "wet read: mlhh \n",
      "  multiloculated communicating fluid collections in gb fossa (w/ surgicel),\n",
      "  perihepatic space, and r abd/pelvis.\n",
      "Fluid collection-positive\n",
      "\n",
      "  r rectus abdominis edema and small im fluid collections, cannot r/o infx.\n",
      "Fluid collection-positive\n",
      "\n"
     ]
    }
   ],
   "source": [
    "#We've now classified our markup. The pipeline above applies this process to an entire report and returns a list of markups.\n",
    "markups = fc.fc_pipeline(report,splitter=helpers.my_sentence_splitter,spans=True)\n",
    "for m in markups[:5]:\n",
    "    print(m.getRawText())\n",
    "    print(m.markupClass)\n",
    "    print()"
   ]
  },
  {
   "cell_type": "code",
   "execution_count": null,
   "metadata": {
    "collapsed": true
   },
   "outputs": [],
   "source": []
  },
  {
   "cell_type": "markdown",
   "metadata": {},
   "source": [
    "### Document Classification\n",
    "\n",
    "Once you've classified each sentence in the document, you can classify the document as a whole.\n",
    "\n",
    "We'll categorize a document as 'present' if *at least 1* markup is classified as `positive`"
   ]
  },
  {
   "cell_type": "code",
   "execution_count": 14,
   "metadata": {},
   "outputs": [
    {
     "data": {
      "text/plain": [
       "'Fluid collection-not present'"
      ]
     },
     "execution_count": 14,
     "metadata": {},
     "output_type": "execute_result"
    }
   ],
   "source": [
    "def classify_document(markups):\n",
    "    if any([m.markupClass for m in markups if m.markupClass == 'Fluid collection-positive']):\n",
    "        doc_class = 'Fluid collection-present'\n",
    "    doc_class = 'Fluid collection-not present'\n",
    "    return doc_class\n",
    "\n",
    "classify_document(markups)"
   ]
  },
  {
   "cell_type": "markdown",
   "metadata": {},
   "source": [
    "## Output\n",
    "\n",
    "There are several options for output, which are defined in ./input.output.py . For the use case, we converted the markups into knowtator XML files that could be mapped into eHOST. This could then be used to adjudicate fcFinder's findings with a reference standard of manually annotated reports.\n",
    "\n",
    "Other possibilities include `.csv` files, JSON files, or arrays with counts of the different classes of markup."
   ]
  },
  {
   "cell_type": "code",
   "execution_count": 15,
   "metadata": {},
   "outputs": [
    {
     "name": "stdout",
     "output_type": "stream",
     "text": [
      "<?xml version=\"1.0\" ?>\n",
      "<annotations textSource=\"sample_report.txt\">\n",
      "  <annotation>\n",
      "    <mention id=\"258750673486544177623941054921840308712\"/>\n",
      "    <annotator id=\"eHOST_2010\">FC_FINDER</annotator>\n",
      "    <span end=\"102\" start=\"37\"/>\n",
      "    <spannedText>reason: evaluate for abscess/fluid collection and drain position.</spannedText>\n",
      "    <creationDate>Wed May 10 17:02:40 2017</creationDate>\n",
      "  </annotation>\n",
      "  <classMention id=\"258750673486544177623941054921840308712\">\n",
      "    <mentionClass id=\"fluid collection-indication\">reason: evaluate for abscess/fluid collection and drain position.</mentionClass>\n",
      "  </classMention>\n",
      "  <annotation>\n",
      "    <mention id=\"258768433271453375116854817241587823080\"/>\n",
      "    <annotator id=\"eHOST_2010\">FC_FINDER</annotator>\n",
      "    <span end=\"298\" start=\"176\"/>\n",
      "    <spannedText>underlying medical condition: 82m s/p open ccy and biloma drainage with drains in place--now draining purulent fluid.</spannedText>\n",
      "    <creationDate>Wed May 10 17:02:40 2017</creationDate>\n",
      "  </annotation>\n",
      "  <\n"
     ]
    }
   ],
   "source": [
    "import input_output as io\n",
    "import pandas as pd\n",
    "\n",
    "annotations = [io.createAnnotation(m, file) for m in markups]\n",
    "XMLstring = io.write_knowtator(annotations, file)\n",
    "print(XMLstring[:1000])"
   ]
  },
  {
   "cell_type": "code",
   "execution_count": 16,
   "metadata": {
    "scrolled": true
   },
   "outputs": [
    {
     "name": "stdout",
     "output_type": "stream",
     "text": [
      "<?xml version=\"1.0\" encoding=\"UTF-8\"?>\n",
      "<annotations textSource=\"Yes_74976_148937_02-28-66.txt\">\n",
      "    <annotation>\n",
      "        <mention id=\"EHOST_Instance_67907\" />\n",
      "        <annotator id=\"eHOST_2010\">REFERENCE</annotator>\n",
      "        <span start=\"45\" end=\"102\" />\n",
      "        <spannedText>Evaluate for abscess/fluid collection and drain position.</spannedText>\n",
      "        <creationDate>Tue Feb 28 10:54:30 EST 2017</creationDate>\n",
      "    </annotation>\n",
      "    <classMention id=\"EHOST_Instance_67907\">\n",
      "        <mentionClass id=\"fluid collection-indication\">Evaluate for abscess/fluid collection and drain position.</mentionClass>\n",
      "    </classMention>\n",
      "    <annotation>\n",
      "        <mention id=\"EHOST_Instance_67908\" />\n",
      "        <annotator id=\"eHOST_2010\">REFERENCE</annotator>\n",
      "        <span start=\"333\" end=\"390\" />\n",
      "        <spannedText>Evaluate for abscess/fluid collection and drain position.</spannedText>\n",
      "        <creationDate>Tue Feb 28 10:54:37 EST 2017</creationDate>\n",
      "    </annotation>\n",
      "    <classMention id=\"EHOST_Instance_679\n"
     ]
    }
   ],
   "source": [
    "with open('sample_reference_standard.knowtator.xml') as f: #manual-annotated results\n",
    "    XMLreference = f.read()\n",
    "print(XMLreference[:1000])"
   ]
  },
  {
   "cell_type": "code",
   "execution_count": 17,
   "metadata": {},
   "outputs": [
    {
     "data": {
      "text/html": [
       "<div>\n",
       "<table border=\"1\" class=\"dataframe\">\n",
       "  <thead>\n",
       "    <tr style=\"text-align: right;\">\n",
       "      <th></th>\n",
       "      <th>file_name</th>\n",
       "      <th>original_text</th>\n",
       "      <th>reference_standard</th>\n",
       "      <th>fcFinder_results</th>\n",
       "    </tr>\n",
       "  </thead>\n",
       "  <tbody>\n",
       "    <tr>\n",
       "      <th>0</th>\n",
       "      <td>sample_report</td>\n",
       "      <td>\\n CT ABD &amp; PELVIS WITH CONTRAST \\n ~ Reason:...</td>\n",
       "      <td>&lt;?xml version=\"1.0\" encoding=\"UTF-8\"?&gt;\\n&lt;annot...</td>\n",
       "      <td>&lt;?xml version=\"1.0\" ?&gt;\\n&lt;annotations textSourc...</td>\n",
       "    </tr>\n",
       "  </tbody>\n",
       "</table>\n",
       "</div>"
      ],
      "text/plain": [
       "       file_name                                      original_text  \\\n",
       "0  sample_report   \\n CT ABD & PELVIS WITH CONTRAST \\n ~ Reason:...   \n",
       "\n",
       "                                  reference_standard  \\\n",
       "0  <?xml version=\"1.0\" encoding=\"UTF-8\"?>\\n<annot...   \n",
       "\n",
       "                                    fcFinder_results  \n",
       "0  <?xml version=\"1.0\" ?>\\n<annotations textSourc...  "
      ]
     },
     "execution_count": 17,
     "metadata": {},
     "output_type": "execute_result"
    }
   ],
   "source": [
    "    \n",
    "columns=['file_name','original_text','reference_standard','fcFinder_results']\n",
    "data = [os.path.splitext(file)[0],report,XMLreference,XMLstring]\n",
    "df = pd.DataFrame(columns=columns)\n",
    "df = df.append(pd.DataFrame([data],columns=columns),ignore_index=True)\n",
    "df"
   ]
  },
  {
   "cell_type": "code",
   "execution_count": 18,
   "metadata": {},
   "outputs": [],
   "source": [
    "#Similar functionality with JSON and .csv will be added at a future date\n"
   ]
  },
  {
   "cell_type": "code",
   "execution_count": 19,
   "metadata": {},
   "outputs": [
    {
     "data": {
      "text/plain": [
       "array([ 19.,   4.,   0.])"
      ]
     },
     "execution_count": 19,
     "metadata": {},
     "output_type": "execute_result"
    }
   ],
   "source": [
    "#Array with markupClass counts\n",
    "io.fc_vectorizer(annotations,[\"Fluid collection-positive\",'fluid collection-indication','Fluid collection-negated'])"
   ]
  },
  {
   "cell_type": "code",
   "execution_count": 20,
   "metadata": {},
   "outputs": [
    {
     "name": "stdout",
     "output_type": "stream",
     "text": [
      "positive, indication, negated\n",
      "[ 19.   4.   0.]\n"
     ]
    }
   ],
   "source": [
    "import numpy as np\n",
    "def markups_vectorizer(markups,classes=[\"Fluid collection-positive\",\n",
    "                                        'fluid collection-indication','Fluid collection-negated']):\n",
    "    arr = np.ravel(np.zeros((len(classes),1)))\n",
    "    for i in range(len(classes)):\n",
    "        for a in markups:\n",
    "            if a.markupClass == classes[i]:\n",
    "                arr[i] += 1\n",
    "    return arr\n",
    "print('positive, indication, negated')\n",
    "print(markups_vectorizer(markups))"
   ]
  },
  {
   "cell_type": "code",
   "execution_count": 21,
   "metadata": {},
   "outputs": [
    {
     "data": {
      "text/html": [
       "<div>\n",
       "<table border=\"1\" class=\"dataframe\">\n",
       "  <thead>\n",
       "    <tr style=\"text-align: right;\">\n",
       "      <th></th>\n",
       "      <th>file_name</th>\n",
       "      <th>text</th>\n",
       "      <th>span</th>\n",
       "      <th>class</th>\n",
       "    </tr>\n",
       "  </thead>\n",
       "  <tbody>\n",
       "    <tr>\n",
       "      <th>0</th>\n",
       "      <td>sample_report.txt</td>\n",
       "      <td>reason: evaluate for abscess/fluid collection ...</td>\n",
       "      <td>(37, 102)</td>\n",
       "      <td>fluid collection-indication</td>\n",
       "    </tr>\n",
       "    <tr>\n",
       "      <th>1</th>\n",
       "      <td>sample_report.txt</td>\n",
       "      <td>underlying medical condition:\\n  82m s/p open ...</td>\n",
       "      <td>(176, 298)</td>\n",
       "      <td>fluid collection-indication</td>\n",
       "    </tr>\n",
       "    <tr>\n",
       "      <th>2</th>\n",
       "      <td>sample_report.txt</td>\n",
       "      <td>reason for this examination:\\n  evaluate for a...</td>\n",
       "      <td>(302, 390)</td>\n",
       "      <td>fluid collection-indication</td>\n",
       "    </tr>\n",
       "    <tr>\n",
       "      <th>3</th>\n",
       "      <td>sample_report.txt</td>\n",
       "      <td>wet read: mlhh \\n  multiloculated communicatin...</td>\n",
       "      <td>(435, 565)</td>\n",
       "      <td>Fluid collection-positive</td>\n",
       "    </tr>\n",
       "    <tr>\n",
       "      <th>4</th>\n",
       "      <td>sample_report.txt</td>\n",
       "      <td>r rectus abdominis edema and small im fluid ...</td>\n",
       "      <td>(639, 714)</td>\n",
       "      <td>Fluid collection-positive</td>\n",
       "    </tr>\n",
       "    <tr>\n",
       "      <th>5</th>\n",
       "      <td>sample_report.txt</td>\n",
       "      <td>malpositioned  drains, which course through ...</td>\n",
       "      <td>(715, 836)</td>\n",
       "      <td>Fluid collection-positive</td>\n",
       "    </tr>\n",
       "    <tr>\n",
       "      <th>6</th>\n",
       "      <td>sample_report.txt</td>\n",
       "      <td>wet read version #1 mlhh \\n  multiloculated f...</td>\n",
       "      <td>(875, 1035)</td>\n",
       "      <td>Fluid collection-positive</td>\n",
       "    </tr>\n",
       "    <tr>\n",
       "      <th>7</th>\n",
       "      <td>sample_report.txt</td>\n",
       "      <td>r rectus abdominis edema and small im fluid ...</td>\n",
       "      <td>(1036, 1111)</td>\n",
       "      <td>Fluid collection-positive</td>\n",
       "    </tr>\n",
       "    <tr>\n",
       "      <th>8</th>\n",
       "      <td>sample_report.txt</td>\n",
       "      <td>indication:  82-year-old male with acute on ch...</td>\n",
       "      <td>(1230, 1372)</td>\n",
       "      <td>fluid collection-indication</td>\n",
       "    </tr>\n",
       "    <tr>\n",
       "      <th>9</th>\n",
       "      <td>sample_report.txt</td>\n",
       "      <td>in the gallbladder fossa, there is a relative...</td>\n",
       "      <td>(2256, 2514)</td>\n",
       "      <td>Fluid collection-positive</td>\n",
       "    </tr>\n",
       "    <tr>\n",
       "      <th>10</th>\n",
       "      <td>sample_report.txt</td>\n",
       "      <td>this appears to demonstrate faint\\n periphera...</td>\n",
       "      <td>(2515, 2670)</td>\n",
       "      <td>Fluid collection-positive</td>\n",
       "    </tr>\n",
       "    <tr>\n",
       "      <th>11</th>\n",
       "      <td>sample_report.txt</td>\n",
       "      <td>the subcapsular fluid\\n collection surroundin...</td>\n",
       "      <td>(2671, 2831)</td>\n",
       "      <td>Fluid collection-positive</td>\n",
       "    </tr>\n",
       "    <tr>\n",
       "      <th>12</th>\n",
       "      <td>sample_report.txt</td>\n",
       "      <td>this collection and a contiguous posterior co...</td>\n",
       "      <td>(3009, 3185)</td>\n",
       "      <td>Fluid collection-positive</td>\n",
       "    </tr>\n",
       "    <tr>\n",
       "      <th>13</th>\n",
       "      <td>sample_report.txt</td>\n",
       "      <td>more inferiorly, a loculated 5 cm tv x -8 cm ...</td>\n",
       "      <td>(3296, 3468)</td>\n",
       "      <td>Fluid collection-positive</td>\n",
       "    </tr>\n",
       "    <tr>\n",
       "      <th>14</th>\n",
       "      <td>sample_report.txt</td>\n",
       "      <td>a focal intramuscular fluid collection in the...</td>\n",
       "      <td>(3709, 3830)</td>\n",
       "      <td>Fluid collection-positive</td>\n",
       "    </tr>\n",
       "    <tr>\n",
       "      <th>15</th>\n",
       "      <td>sample_report.txt</td>\n",
       "      <td>the lateral\\n drain courses along the right l...</td>\n",
       "      <td>(3996, 4240)</td>\n",
       "      <td>Fluid collection-positive</td>\n",
       "    </tr>\n",
       "    <tr>\n",
       "      <th>16</th>\n",
       "      <td>sample_report.txt</td>\n",
       "      <td>the medial drain courses anteriorly and super...</td>\n",
       "      <td>(4241, 4443)</td>\n",
       "      <td>Fluid collection-positive</td>\n",
       "    </tr>\n",
       "    <tr>\n",
       "      <th>17</th>\n",
       "      <td>sample_report.txt</td>\n",
       "      <td>the liver parenchyma appears slightly heterog...</td>\n",
       "      <td>(4444, 4554)</td>\n",
       "      <td>Fluid collection-positive</td>\n",
       "    </tr>\n",
       "    <tr>\n",
       "      <th>18</th>\n",
       "      <td>sample_report.txt</td>\n",
       "      <td>\\n pelvis:  the appendix is completely filled...</td>\n",
       "      <td>(5274, 5460)</td>\n",
       "      <td>Fluid collection-positive</td>\n",
       "    </tr>\n",
       "    <tr>\n",
       "      <th>19</th>\n",
       "      <td>sample_report.txt</td>\n",
       "      <td>mild reactive thickening is also noted at the...</td>\n",
       "      <td>(5461, 5592)</td>\n",
       "      <td>Fluid collection-positive</td>\n",
       "    </tr>\n",
       "    <tr>\n",
       "      <th>20</th>\n",
       "      <td>sample_report.txt</td>\n",
       "      <td>impression:\\n -  interval open cholecystectomy...</td>\n",
       "      <td>(6535, 6764)</td>\n",
       "      <td>Fluid collection-positive</td>\n",
       "    </tr>\n",
       "    <tr>\n",
       "      <th>21</th>\n",
       "      <td>sample_report.txt</td>\n",
       "      <td>\\n drains are located peripherally within som...</td>\n",
       "      <td>(6765, 6941)</td>\n",
       "      <td>Fluid collection-positive</td>\n",
       "    </tr>\n",
       "    <tr>\n",
       "      <th>22</th>\n",
       "      <td>sample_report.txt</td>\n",
       "      <td>- small right rectus abdominis collection alo...</td>\n",
       "      <td>(6942, 7061)</td>\n",
       "      <td>Fluid collection-positive</td>\n",
       "    </tr>\n",
       "  </tbody>\n",
       "</table>\n",
       "</div>"
      ],
      "text/plain": [
       "            file_name                                               text  \\\n",
       "0   sample_report.txt  reason: evaluate for abscess/fluid collection ...   \n",
       "1   sample_report.txt  underlying medical condition:\\n  82m s/p open ...   \n",
       "2   sample_report.txt  reason for this examination:\\n  evaluate for a...   \n",
       "3   sample_report.txt  wet read: mlhh \\n  multiloculated communicatin...   \n",
       "4   sample_report.txt    r rectus abdominis edema and small im fluid ...   \n",
       "5   sample_report.txt    malpositioned  drains, which course through ...   \n",
       "6   sample_report.txt   wet read version #1 mlhh \\n  multiloculated f...   \n",
       "7   sample_report.txt    r rectus abdominis edema and small im fluid ...   \n",
       "8   sample_report.txt  indication:  82-year-old male with acute on ch...   \n",
       "9   sample_report.txt   in the gallbladder fossa, there is a relative...   \n",
       "10  sample_report.txt   this appears to demonstrate faint\\n periphera...   \n",
       "11  sample_report.txt   the subcapsular fluid\\n collection surroundin...   \n",
       "12  sample_report.txt   this collection and a contiguous posterior co...   \n",
       "13  sample_report.txt   more inferiorly, a loculated 5 cm tv x -8 cm ...   \n",
       "14  sample_report.txt   a focal intramuscular fluid collection in the...   \n",
       "15  sample_report.txt   the lateral\\n drain courses along the right l...   \n",
       "16  sample_report.txt   the medial drain courses anteriorly and super...   \n",
       "17  sample_report.txt   the liver parenchyma appears slightly heterog...   \n",
       "18  sample_report.txt   \\n pelvis:  the appendix is completely filled...   \n",
       "19  sample_report.txt   mild reactive thickening is also noted at the...   \n",
       "20  sample_report.txt  impression:\\n -  interval open cholecystectomy...   \n",
       "21  sample_report.txt   \\n drains are located peripherally within som...   \n",
       "22  sample_report.txt   - small right rectus abdominis collection alo...   \n",
       "\n",
       "            span                        class  \n",
       "0      (37, 102)  fluid collection-indication  \n",
       "1     (176, 298)  fluid collection-indication  \n",
       "2     (302, 390)  fluid collection-indication  \n",
       "3     (435, 565)    Fluid collection-positive  \n",
       "4     (639, 714)    Fluid collection-positive  \n",
       "5     (715, 836)    Fluid collection-positive  \n",
       "6    (875, 1035)    Fluid collection-positive  \n",
       "7   (1036, 1111)    Fluid collection-positive  \n",
       "8   (1230, 1372)  fluid collection-indication  \n",
       "9   (2256, 2514)    Fluid collection-positive  \n",
       "10  (2515, 2670)    Fluid collection-positive  \n",
       "11  (2671, 2831)    Fluid collection-positive  \n",
       "12  (3009, 3185)    Fluid collection-positive  \n",
       "13  (3296, 3468)    Fluid collection-positive  \n",
       "14  (3709, 3830)    Fluid collection-positive  \n",
       "15  (3996, 4240)    Fluid collection-positive  \n",
       "16  (4241, 4443)    Fluid collection-positive  \n",
       "17  (4444, 4554)    Fluid collection-positive  \n",
       "18  (5274, 5460)    Fluid collection-positive  \n",
       "19  (5461, 5592)    Fluid collection-positive  \n",
       "20  (6535, 6764)    Fluid collection-positive  \n",
       "21  (6765, 6941)    Fluid collection-positive  \n",
       "22  (6942, 7061)    Fluid collection-positive  "
      ]
     },
     "execution_count": 21,
     "metadata": {},
     "output_type": "execute_result"
    }
   ],
   "source": [
    "#You can use pandas to export to .xlsx, .csv, sqlite or .json\n",
    "import pandas as pd\n",
    "def markups_to_pandas(markups,file_name):\n",
    "    columns=['file_name','text','span','class']\n",
    "    df = pd.DataFrame(columns=columns)\n",
    "    for m in markups:\n",
    "        data = [file, m.getRawText(), m.docSpan, m.markupClass]\n",
    "        row = pd.Series(data,columns)\n",
    "        df = df.append(pd.DataFrame([row],columns=columns),ignore_index=True)\n",
    "    return df\n",
    "\n",
    "df = markups_to_pandas(markups,file)\n",
    "df"
   ]
  },
  {
   "cell_type": "code",
   "execution_count": 22,
   "metadata": {
    "collapsed": true
   },
   "outputs": [],
   "source": [
    "#df.to_csv('example.csv')\n",
    "#df.to_json('example.json')\n",
    "#df.to_excel('example.xlsx')"
   ]
  },
  {
   "cell_type": "code",
   "execution_count": null,
   "metadata": {
    "collapsed": true
   },
   "outputs": [],
   "source": []
  },
  {
   "cell_type": "markdown",
   "metadata": {},
   "source": [
    "# Example of how to expand\n",
    "\n",
    "The use case and the above example is a very narrow application of pyConText. Future work should expand this functionality to other problems, such as pneumonia and UTIs. Here is an example of how the tools defined in fcFinder can be adapted to a broader domain of problems.\n",
    "\n",
    "Here's what you'll need to do to make your own implementation:\n",
    "    - New targets and modifiers\n",
    "    - To use the markup_conditions.add_target() method\n",
    "    - A new classifying function"
   ]
  },
  {
   "cell_type": "code",
   "execution_count": 125,
   "metadata": {},
   "outputs": [],
   "source": [
    "import pyConTextNLP.itemData as itemData\n",
    "import pyConTextNLP.pyConTextGraph as pyConText\n",
    "new_modifiers = itemData.instantiateFromCSVtoitemData(os.path.join(os.path.abspath('.'),'sample_modifiers.tsv'))\n",
    "new_targets = itemData.instantiateFromCSVtoitemData(os.path.join(os.path.abspath('.'),'sample_targets.tsv'))"
   ]
  },
  {
   "cell_type": "code",
   "execution_count": 126,
   "metadata": {},
   "outputs": [
    {
     "name": "stdout",
     "output_type": "stream",
     "text": [
      "itemData: 3 items [can be ruled out, cannot see, at risk, ]\n",
      "itemData: 3 items [pneumonia, fluid collection, urinary tract infection, ]\n"
     ]
    }
   ],
   "source": [
    "print(new_modifiers)\n",
    "print(new_targets)"
   ]
  },
  {
   "cell_type": "code",
   "execution_count": 158,
   "metadata": {
    "collapsed": true
   },
   "outputs": [],
   "source": [
    "new_report = \"\"\"Pneumonia can be ruled out. I cannot see any fluid collection in the abdomen.\n",
    "The patient is at risk of developing a urinary tract infection.\"\"\""
   ]
  },
  {
   "cell_type": "code",
   "execution_count": 161,
   "metadata": {},
   "outputs": [],
   "source": [
    "def new_markup_classifier(m):\n",
    "    markup_class = None\n",
    "    \n",
    "    if not m.conditions.target:\n",
    "        return None\n",
    "    \n",
    "    markup_target = m.conditions.target.getCategory()[0]\n",
    "    if m.conditions.negated:\n",
    "        lex = 'negated existence'\n",
    "    elif m.conditions.future:\n",
    "        lex = 'future existence'\n",
    "    else:\n",
    "        lex = 'definite existence'\n",
    "    markup_class = '{target}-{lex}'.format(target=markup_target, lex=lex)\n",
    "    return markup_class\n",
    "\n",
    "def new_pipeline(report):\n",
    "    report = report.lower()\n",
    "    spans = False\n",
    "    sentences = helpers.my_sentence_splitter(report)\n",
    "    markups = fc.create_list_of_markups(sentences,modifiers=new_modifiers,targets=new_targets,spans=True)\n",
    "    for m in markups:\n",
    "        m.conditions = fc.markup_conditions(markup=m)\n",
    "        for t in new_targets: #add new targets\n",
    "            m.conditions.add_target(t.getCategory())\n",
    "            m.target = m.conditions.target\n",
    "        if m.isModifiedByCategory(m.conditions.target,'future_existence'): #Add new classes\n",
    "            m.conditions.future = True\n",
    "        else:\n",
    "            m.conditions.future = False\n",
    "        m.markupClass = new_markup_classifier(m)\n",
    "    return [m for m in markups if m.markupClass]\n",
    "markups = new_pipeline(new_report)"
   ]
  },
  {
   "cell_type": "code",
   "execution_count": 162,
   "metadata": {},
   "outputs": [
    {
     "name": "stdout",
     "output_type": "stream",
     "text": [
      "pneumonia can be ruled out.\n",
      "pneumonia-negated existence\n",
      "\n",
      "i cannot see any fluid collection in the abdomen.\n",
      "fluid_collection-negated existence\n",
      "\n",
      "the patient is at risk of developing a urinary tract infection.\n",
      "uti-future existence\n",
      "\n"
     ]
    }
   ],
   "source": [
    "markups = new_pipeline(new_report)\n",
    "for m in markups:\n",
    "    print(m.getRawText())\n",
    "    print(m.markupClass)\n",
    "    print()"
   ]
  },
  {
   "cell_type": "code",
   "execution_count": 163,
   "metadata": {},
   "outputs": [
    {
     "name": "stdout",
     "output_type": "stream",
     "text": [
      "<?xml version=\"1.0\" ?>\n",
      "<annotations textSource=\"new_report\">\n",
      "  <annotation>\n",
      "    <mention id=\"41417455595668713246398992713458954728\"/>\n",
      "    <annotator id=\"eHOST_2010\">FC_FINDER</annotator>\n",
      "    <span end=\"27\" start=\"0\"/>\n",
      "    <spannedText>pneumonia can be ruled out.</spannedText>\n",
      "    <creationDate>Wed May 10 18:02:38 2017</creationDate>\n",
      "  </annotation>\n",
      "  <classMention id=\"41417455595668713246398992713458954728\">\n",
      "    <mentionClass id=\"pneumonia-negated existence\">pneumonia can be ruled out.</mentionClass>\n",
      "  </classMention>\n",
      "  <annotation>\n",
      "    <mention id=\"41418223316563476470976038494056002024\"/>\n",
      "    <annotator id=\"eHOST_2010\">FC_FINDER</annotator>\n",
      "    <span end=\"77\" start=\"28\"/>\n",
      "    <spannedText>i cannot see any fluid collection in the abdomen.</spannedText>\n",
      "    <creationDate>Wed May 10 18:02:38 2017</creationDate>\n",
      "  </annotation>\n",
      "  <classMention id=\"41418223316563476470976038494056002024\">\n",
      "    <mentionClass id=\"fluid_collection-negated existence\">i cannot see any fluid collection in the abdomen.</mentionClass>\n",
      "  </classMention>\n",
      "  <annotation>\n",
      "    <mention id=\"41418789797925453458001412505563869672\"/>\n",
      "    <annotator id=\"eHOST_2010\">FC_FINDER</annotator>\n",
      "    <span end=\"141\" start=\"78\"/>\n",
      "    <spannedText>the patient is at risk of developing a urinary tract infection.</spannedText>\n",
      "    <creationDate>Wed May 10 18:02:38 2017</creationDate>\n",
      "  </annotation>\n",
      "  <classMention id=\"41418789797925453458001412505563869672\">\n",
      "    <mentionClass id=\"uti-future existence\">the patient is at risk of developing a urinary tract infection.</mentionClass>\n",
      "  </classMention>\n",
      "  <eHOST_Adjudication_Status version=\"1.0\">\n",
      "    <Adjudication_Selected_Annotators version=\"1.0\"/>\n",
      "    <Adjudication_Selected_Classes version=\"1.0\"/>\n",
      "    <Adjudication_Others>\n",
      "      <CHECK_OVERLAPPED_SPANS>false</CHECK_OVERLAPPED_SPANS>\n",
      "      <CHECK_ATTRIBUTES>false</CHECK_ATTRIBUTES>\n",
      "      <CHECK_RELATIONSHIP>false</CHECK_RELATIONSHIP>\n",
      "      <CHECK_CLASS>false</CHECK_CLASS>\n",
      "      <CHECK_COMMENT>false</CHECK_COMMENT>\n",
      "    </Adjudication_Others>\n",
      "  </eHOST_Adjudication_Status>\n",
      "</annotations>\n",
      "\n"
     ]
    }
   ],
   "source": [
    "annotations = [io.createAnnotation(m, 'new_report') for m in markups]\n",
    "XMLstring = io.write_knowtator(annotations, 'new_report')\n",
    "print(XMLstring)"
   ]
  },
  {
   "cell_type": "code",
   "execution_count": null,
   "metadata": {
    "collapsed": true
   },
   "outputs": [],
   "source": []
  }
 ],
 "metadata": {
  "kernelspec": {
   "display_name": "Python 3",
   "language": "python",
   "name": "python3"
  },
  "language_info": {
   "codemirror_mode": {
    "name": "ipython",
    "version": 3
   },
   "file_extension": ".py",
   "mimetype": "text/x-python",
   "name": "python",
   "nbconvert_exporter": "python",
   "pygments_lexer": "ipython3",
   "version": "3.7.9"
  }
 },
 "nbformat": 4,
 "nbformat_minor": 2
}
